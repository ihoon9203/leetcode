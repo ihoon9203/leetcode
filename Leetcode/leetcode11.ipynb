{
 "cells": [
  {
   "cell_type": "markdown",
   "id": "987a6f9c",
   "metadata": {},
   "source": [
    "### 11. Container With Most Water\n",
    "\n",
    "## <span style=\"color:orange\">Medium</span>\n",
    "\n",
    "You are given an integer array height of length n. There are n vertical lines drawn such that the two endpoints of the ith line are (i, 0) and (i, height[i]).\n",
    "\n",
    "Find two lines that together with the x-axis form a container, such that the container contains the most water.\n",
    "\n",
    "Return the maximum amount of water a container can store.\n",
    "\n",
    "Notice that you may not slant the container.\n",
    " \n",
    "\n",
    "Example 1:\n",
    "\n",
    "Input: height = [1,8,6,2,5,4,8,3,7]\n",
    "Output: 49\n",
    "Explanation: The above vertical lines are represented by array [1,8,6,2,5,4,8,3,7]. In this case, the max area of water (blue section) the container can contain is 49.\n",
    "Example 2:\n",
    "\n",
    "Input: height = [1,1]\n",
    "Output: 1\n",
    " \n",
    "\n",
    "Constraints:\n",
    "\n",
    "n == height.length\n",
    "2 <= n <= 105\n",
    "0 <= height[i] <= 104\n",
    " \n",
    "\n",
    "### Constraints:\n",
    "\n",
    "1 <= s.length <= 1000\n",
    "s consist of only digits and English letters."
   ]
  },
  {
   "cell_type": "code",
   "execution_count": null,
   "id": "da64e8f7",
   "metadata": {},
   "outputs": [],
   "source": [
    "from typing import List\n",
    "\n",
    "\n",
    "class Solution:\n",
    "    def maxArea(self, height: List[int]) -> int:\n",
    "        l = 0\n",
    "        r = len(height) - 1\n",
    "        size = 0\n",
    "        \n",
    "        while l < r:\n",
    "            size = max(size, min(height[l], height[r]) * (r - l))\n",
    "            if height[l] < height[r]:\n",
    "                l += 1\n",
    "            else:\n",
    "                r -= 1\n",
    "        \n",
    "        return size\n",
    "        "
   ]
  },
  {
   "cell_type": "markdown",
   "id": "7fb78409",
   "metadata": {},
   "source": [
    "# 해설\n",
    "\n",
    "시작점에서 iterate 하기 보다는 양 끝에서 조여들어가는 방식으로 풀이한다\n",
    "\n",
    "``` Python\n",
    "size = max(size, min(height[l], height[r]) * (r - l))\n",
    "```\n",
    "기존 사이즈와 신규 사이즈를 비교해서 더 큰걸 사이즈로 삼음\n",
    "\n",
    "height[l] 이 height[r] 보다 작으면 더 큰 l을 찾기 위해서 왼쪽으로 이동\n",
    "height[r] 이 height[l] 보다 작으면 더 큰 r을 찾기 위해서 오른쪽으로 이동\n",
    "\n",
    "이렇게 l이 r 보다 작은 조건을 유지할 때 까지 진행해 나가면서 계속 size를 업데이트 하게됨\n"
   ]
  }
 ],
 "metadata": {
  "language_info": {
   "name": "python"
  }
 },
 "nbformat": 4,
 "nbformat_minor": 5
}
