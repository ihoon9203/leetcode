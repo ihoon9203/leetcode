{
 "cells": [
  {
   "cell_type": "markdown",
   "id": "57eaf4d2",
   "metadata": {},
   "source": [
    "### 17. Letter Combinations of a Phone Number\n",
    "\n",
    "## <span style=\"color:orange\">Medium</span>\n",
    "\n",
    "Given a string containing digits from 2-9 inclusive, return all possible letter combinations that the number could represent. Return the answer in any order.\n",
    "\n",
    "A mapping of digits to letters (just like on the telephone buttons) is given below. Note that 1 does not map to any letters.\n",
    "\n",
    "\n",
    " \n",
    "\n",
    "Example 1:\n",
    "\n",
    "Input: digits = \"23\"\n",
    "Output: [\"ad\",\"ae\",\"af\",\"bd\",\"be\",\"bf\",\"cd\",\"ce\",\"cf\"]\n",
    "Example 2:\n",
    "\n",
    "Input: digits = \"\"\n",
    "Output: []\n",
    "Example 3:\n",
    "\n",
    "Input: digits = \"2\"\n",
    "Output: [\"a\",\"b\",\"c\"]\n",
    " \n",
    "\n",
    "### Constraints:\n",
    "\n",
    "0 <= digits.length <= 4\n",
    "digits[i] is a digit in the range ['2', '9']."
   ]
  },
  {
   "cell_type": "code",
   "execution_count": null,
   "id": "c73a2195",
   "metadata": {},
   "outputs": [],
   "source": [
    "class Solution:\n",
    "    \n",
    "    def letterCombinations(self, digits: str) -> List[str]:\n",
    "        combos = []\n",
    "        dial = {\n",
    "            \"2\": [\"a\", \"b\", \"c\"],\n",
    "            \"3\": [\"d\", \"e\", \"f\"],\n",
    "            \"4\": [\"g\", \"h\", \"i\"],\n",
    "            \"5\": [\"j\", \"k\", \"l\"],\n",
    "            \"6\": [\"m\", \"n\", \"o\"],\n",
    "            \"7\": [\"p\", \"q\", \"r\", \"s\"],\n",
    "            \"8\": [\"t\", \"u\", \"v\"],\n",
    "            \"9\": [\"w\", \"x\", \"y\", \"z\"]\n",
    "        }\n",
    "        def backtrack(i, current):\n",
    "            if len(current) == len(digits):\n",
    "                # 그럼 콤비네이션 하나 완성한것\n",
    "                combos.append(current)\n",
    "                return\n",
    "            else:\n",
    "                for item in dial[digits[i]]:\n",
    "                    backtrack(i+1, current+item)\n",
    "        if len(digits) > 0:\n",
    "            backtrack(0, '')\n",
    "        return combos"
   ]
  },
  {
   "cell_type": "markdown",
   "id": "d6a8668b",
   "metadata": {},
   "source": [
    "# 해설\n",
    "\n",
    "이건 Recursion으로 해결해야 함\n",
    "\n",
    "### 조건 1\n",
    "최종 다이얼의 사이즈는 digits의 사이즈와 동일함\n",
    "그래서 \n",
    "``` python\n",
    "if len(current) == len(digits):\n",
    "```\n",
    "가 중요한 것\n",
    "\n",
    "이게 되었다면 콤보 하나가 완성되었다는 것을 의미해서 추가한뒤 recursion을 종료한다.\n",
    "\n",
    "만약 그 이전이라면 dial에서 조합가능한 모든 캐릭터\n",
    "``` python\n",
    "for item in dial[digits[i]]:\n",
    "    backtrack(i+1, current+item)\n",
    "```\n",
    "를 추가한 다음 다시 백트래킹을 하면 된다."
   ]
  }
 ],
 "metadata": {
  "language_info": {
   "name": "python"
  }
 },
 "nbformat": 4,
 "nbformat_minor": 5
}
