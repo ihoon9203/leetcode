{
 "cells": [
  {
   "cell_type": "markdown",
   "id": "7417e767",
   "metadata": {},
   "source": [
    "### 5. Longest Palindromic Substring\n",
    "\n",
    "## <span style=\"color:orange\">Medium</span>\n",
    "\n",
    "Given a string s, return the longest palindromic substring in s.\n",
    "\n",
    " \n",
    "\n",
    "Example 1:\n",
    "\n",
    "Input: s = \"babad\"\n",
    "Output: \"bab\"\n",
    "Explanation: \"aba\" is also a valid answer.\n",
    "Example 2:\n",
    "\n",
    "Input: s = \"cbbd\"\n",
    "Output: \"bb\"\n",
    " \n",
    "\n",
    "### Constraints:\n",
    "\n",
    "1 <= s.length <= 1000\n",
    "s consist of only digits and English letters."
   ]
  },
  {
   "cell_type": "code",
   "execution_count": null,
   "id": "0ab26fb9",
   "metadata": {},
   "outputs": [
    {
     "name": "stdout",
     "output_type": "stream",
     "text": [
      "b\n",
      "bab\n",
      "aba\n",
      "a\n",
      "d\n"
     ]
    },
    {
     "data": {
      "text/plain": [
       "'d'"
      ]
     },
     "execution_count": 3,
     "metadata": {},
     "output_type": "execute_result"
    },
    {
     "ename": "",
     "evalue": "",
     "output_type": "error",
     "traceback": [
      "\u001b[1;31mThe Kernel crashed while executing code in the current cell or a previous cell. \n",
      "\u001b[1;31mPlease review the code in the cell(s) to identify a possible cause of the failure. \n",
      "\u001b[1;31mClick <a href='https://aka.ms/vscodeJupyterKernelCrash'>here</a> for more info. \n",
      "\u001b[1;31mView Jupyter <a href='command:jupyter.viewOutput'>log</a> for further details."
     ]
    }
   ],
   "source": [
    "class Solution:\n",
    "    def longestPalindrome(self, s: str) -> str:\n",
    "        longest = \"\"\n",
    "        for i in range(len(s)):\n",
    "            j = 0\n",
    "            localLongest = \"\"\n",
    "            l, r = i, i\n",
    "            # 1. Odd Length Palindrome\n",
    "            while l >= 0 and r < len(s) and s[l] == s[r]:\n",
    "                localLongest = s[l:r + 1]\n",
    "                l -= 1\n",
    "                r += 1\n",
    "            \n",
    "            if len(localLongest) > len(longest):\n",
    "                longest = localLongest\n",
    "            # 2. Even Length Palindrome\n",
    "            l, r = i, i + 1\n",
    "            while l >= 0 and r < len(s) and s[l] == s[r]:\n",
    "                localLongest = s[l:r + 1]\n",
    "                l -= 1\n",
    "                r += 1\n",
    "            \n",
    "            if len(localLongest) > len(longest):\n",
    "                longest = localLongest\n",
    "        return longest"
   ]
  },
  {
   "cell_type": "markdown",
   "id": "b2a8d1da",
   "metadata": {},
   "source": [
    "# 해설\n",
    "\n",
    "일단 기본 원칙은 O(n^2)로 각 character 마다 체크를 하여 어디까지 넓어질 수 있는지 양 쪽을 넓혀가며 iterating을 하는 것\n",
    "어디까지 iterating을 하냐면 \n",
    "\n",
    "``` Python\n",
    "while l >= 0 and r < len(s) and s[l] == s[r]:\n",
    "```\n",
    "l과 r이 String 내부에 있어야 하며 palindrome을 만족할 때 까지이다.\n",
    "\n",
    "\n",
    "단 두 가지 케이스를 고려해야한다.\n",
    "\n",
    "1. odd palindrome,\n",
    "2. even palindrome\n",
    "\n",
    "한번에 모두를 해결할 수 있는 방법은 없으니 따로 처리를 해야한다.\n",
    "\n",
    "1. odd일 경우 l과 r을 해당 케릭터에 기준점을 둔다.\n",
    "s[l] == s[r]이므로 기본은 패스\n",
    "이후 s[i-1] == s[i+1] ... s[i-n] == s[i+n]과 같이 뻗어나간다\n",
    "\n",
    "2. even일 경우 l과 r을 해당 케릭터와 바로 오른쪽으 캐릭터에 기준점을 둔다\n",
    "같은 캐릭터가 나란히 있지 않은 경우 s[l] != s[r]이므로 기본 통과 못함\n",
    "이후 s[i-1] == s[i+1+1] ... s[i-n] == s[i+1+n]과 같이 뻗어나간다\n"
   ]
  }
 ],
 "metadata": {
  "kernelspec": {
   "display_name": "Python 3",
   "language": "python",
   "name": "python3"
  },
  "language_info": {
   "codemirror_mode": {
    "name": "ipython",
    "version": 3
   },
   "file_extension": ".py",
   "mimetype": "text/x-python",
   "name": "python",
   "nbconvert_exporter": "python",
   "pygments_lexer": "ipython3",
   "version": "3.12.10"
  }
 },
 "nbformat": 4,
 "nbformat_minor": 5
}
