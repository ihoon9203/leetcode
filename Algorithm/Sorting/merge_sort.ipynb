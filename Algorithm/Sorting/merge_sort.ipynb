{
 "cells": [
  {
   "cell_type": "code",
   "execution_count": null,
   "id": "289351fd",
   "metadata": {},
   "outputs": [],
   "source": [
    "sample1 = [1, 19, 45, 23, 12, 34, 56, 78, 90, 11]\n",
    "sample2 = [30, 34, 56, 78, 90, 11, 1, 19, 45, 23]\n",
    "sample3 = [9, 8, 7, 6, 5, 4, 3, 2, 1]\n",
    "sample4 = [88, 3, 10, 49, 200, 3, 12, 49, 32, 94, 2]"
   ]
  },
  {
   "cell_type": "code",
   "execution_count": null,
   "id": "230666b1",
   "metadata": {},
   "outputs": [],
   "source": [
    "from typing import List\n",
    "\n",
    "class Solution:\n",
    "    def Merge(self, arr: List[int]):\n",
    "        pass\n",
    "    \n",
    "    def Divide(self, left: int, right: int):\n",
    "        \n",
    "        "
   ]
  }
 ],
 "metadata": {
  "language_info": {
   "name": "python"
  }
 },
 "nbformat": 4,
 "nbformat_minor": 5
}
